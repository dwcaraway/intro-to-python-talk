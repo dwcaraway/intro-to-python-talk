{
 "cells": [
  {
   "cell_type": "markdown",
   "metadata": {},
   "source": [
    "# Introduction to Python\n",
    "\n",
    "An introduction to Python for middle and high school students using Python 3 syntax.\n",
    "\n",
    "![image](https://www.python.org/static/community_logos/python-powered-w-200x80.png)"
   ]
  },
  {
   "cell_type": "markdown",
   "metadata": {},
   "source": [
    "## Getting started\n",
    "\n",
    "We're assuming that you already have Python 3.6 or higher installed. If not, go to Python.org to download the latest for your operating system. Verify that you have the correct version by opening a terminal or command prompt and running\n",
    "\n",
    "```\n",
    "$ python --version\n",
    "Python 3.6.0\n",
    "```"
   ]
  },
  {
   "cell_type": "markdown",
   "metadata": {},
   "source": [
    "# Your First Program: Hello, World!\n",
    "\n",
    "Open the Interactive DeveLopment Environment (IDLE) and write the famous Hello World program. Open IDLE and you'll be in an interactive shell."
   ]
  },
  {
   "cell_type": "code",
   "execution_count": 7,
   "metadata": {},
   "outputs": [
    {
     "name": "stdout",
     "output_type": "stream",
     "text": [
      "Hello, World!\n"
     ]
    }
   ],
   "source": [
    "print('Hello, World!')"
   ]
  },
  {
   "cell_type": "markdown",
   "metadata": {},
   "source": [
    "Choose *File > New Window*. An empty window will appear with *Untitled* in the menu bar. Enter the following code into the new shell window. Choose *File > Save*. Save as `hello.py`, which is known as a python `module`. Choose *Run > Run module* to run the file"
   ]
  },
  {
   "cell_type": "markdown",
   "metadata": {},
   "source": [
    "## Calculating with Python\n",
    "\n",
    "Mathematical operators:\n",
    "\n",
    "* Addition: +\n",
    "* Subtraction: -\n",
    "* Multiplication: *\n",
    "\n",
    "Try these\n",
    "* `3 * 4`\n",
    "* `-12 * 7`\n",
    "\n",
    "* Division:\n",
    "    * Floating point `/`\n",
    "    * Integer `//`\n",
    "\n",
    "Try these:\n",
    "* `3/4`\n",
    "* `4/4`\n",
    "* `1/0`\n",
    "* `3//4`\n",
    "* `5//4`\n",
    "\n",
    "Exponents\n",
    "* `2**3`\n",
    "\n",
    "Modulus\n",
    "* `5%4`\n",
    "\n",
    "Theres lots more available via the standard library and third party packages.\n",
    "\n",
    "To see the type of the result, use the *type* function. For example `type(3//4))` returns `int`\n",
    "\n",
    "If we wanted the quotient of a fraction what operator would we use? What operator would we use to get the remainder?\n"
   ]
  },
  {
   "cell_type": "markdown",
   "metadata": {},
   "source": [
    "## Order of Operations\n",
    "Python reads left to right. Higher precedence operators are applied before lower precedence operators. Operators below are listed lowest precedence at the top. \n",
    "\n",
    "| Operator                                     | Description                                               |\n",
    "|----------------------------------------------|-----------------------------------------------------------|\n",
    "| or                                           | Boolean OR                                                |\n",
    "| and                                          | Boolean AND                                               |\n",
    "| not                                          | Boolean NOT                                               |\n",
    "| in, not in, is, is not, `<`, `<=`, `>`, `>=`, `!=`, `==` | Comparison, including membership tests and identity tests |\n",
    "| `+`, `-`                                         | Addition and Subtraction                                  |\n",
    "| `*`, `/`, `//`, `%`                          | Multiplication, division, integer division, remainder     |\n",
    "| `**`                                           | Exponentiation                                            |\n",
    "\n",
    "Calculate the result of `5 + 1 * 4`.\n",
    "\n",
    "We override the precendence using parenthesis which are evaluated from the innermost out.\n",
    "\n",
    "Calculate the result of `(5+1) * 4`.\n",
    "\n",
    "> Remember that multiplication and division always go before\n",
    "addition and subtraction, unless parentheses are used to control\n",
    "the order of operations."
   ]
  },
  {
   "cell_type": "markdown",
   "metadata": {},
   "source": [
    "## Variables\n",
    "Variables are like labels so that we can refer to things by a recognizable name."
   ]
  },
  {
   "cell_type": "code",
   "execution_count": 25,
   "metadata": {},
   "outputs": [
    {
     "data": {
      "text/plain": [
       "100"
      ]
     },
     "execution_count": 25,
     "metadata": {},
     "output_type": "execute_result"
    }
   ],
   "source": [
    "fred = 100\n",
    "\n",
    "fred"
   ]
  },
  {
   "cell_type": "markdown",
   "metadata": {},
   "source": [
    "### Valid varible names\n",
    "\n",
    "Variables begin with a letter followed by container letters, numbers and underscores\n",
    "\n",
    "* `jim`\n",
    "* `other_jim`\n",
    "* `other_jim99`\n",
    "\n",
    "### Invalid variable names: don't meet requiremenets\n",
    "* `symbol$notallowed`\n",
    "* `5startswithnumber`\n",
    "\n",
    "\n",
    "### Invalid variable names: reserved words\n",
    "\n",
    "| Reserved words |          |        |          |       |\n",
    "|----------------|----------|--------|----------|-------|\n",
    "| None           | continue | for    | lambda   | try   |\n",
    "| True           | def      | from   | nonlocal | while |\n",
    "| and            | del      | global | not      | with  |\n",
    "| as             | elif     | if     | or       | yield |\n",
    "| break          | except   | in     | raise    |       | \n",
    "\n",
    "\n",
    "### Referring to a previous result\n",
    "You can use the `_` variable to refer to the result of a previous calculation when working in the shell.\n"
   ]
  },
  {
   "cell_type": "markdown",
   "metadata": {},
   "source": [
    "## User Input\n",
    "We can get keyboard input using the `input` function"
   ]
  },
  {
   "cell_type": "code",
   "execution_count": 37,
   "metadata": {},
   "outputs": [
    {
     "name": "stdout",
     "output_type": "stream",
     "text": [
      "What's your name? Dave\n",
      "Hi  Dave\n"
     ]
    }
   ],
   "source": [
    "name = input(\"What's your name? \")\n",
    "print(\"Hi \", name)"
   ]
  },
  {
   "cell_type": "markdown",
   "metadata": {},
   "source": [
    "## Strings\n",
    "* Strings are immutable objects in python, meaning they can't be modified once created, but they can be used to create new strings.\n",
    "* Strings should be surrounded with a single quote `'`, double quote `\"` or triple quote `\"\"\"`. The general rule is to use the single quote unless you plan to use something called *interpolation*\n",
    "\n",
    "### Interpolation\n",
    "\n",
    "Strings support templating and formatting. "
   ]
  },
  {
   "cell_type": "code",
   "execution_count": 38,
   "metadata": {},
   "outputs": [
    {
     "data": {
      "text/plain": [
       "'this string is interpolated'"
      ]
     },
     "execution_count": 38,
     "metadata": {},
     "output_type": "execute_result"
    }
   ],
   "source": [
    "\"this string is %s\" % ('interpolated')"
   ]
  },
  {
   "cell_type": "code",
   "execution_count": 55,
   "metadata": {},
   "outputs": [
    {
     "data": {
      "text/plain": [
       "\"this string is also interpolated. The message='interpolated' can be used more than once\""
      ]
     },
     "execution_count": 55,
     "metadata": {},
     "output_type": "execute_result"
    }
   ],
   "source": [
    "\"this string is also {message}. The message='{message}' can be used more than once\".format(message='interpolated')"
   ]
  },
  {
   "cell_type": "code",
   "execution_count": 53,
   "metadata": {},
   "outputs": [
    {
     "data": {
      "text/plain": [
       "'this string is concatenated'"
      ]
     },
     "execution_count": 53,
     "metadata": {},
     "output_type": "execute_result"
    }
   ],
   "source": [
    "# Called string concatenation\n",
    "\"this string is \"+ 'concatenated'"
   ]
  },
  {
   "cell_type": "code",
   "execution_count": null,
   "metadata": {},
   "outputs": [],
   "source": [
    "## Conditionals\n",
    "\n",
    "`if (condition):`\n",
    "\n",
    "`elif (condition):`\n",
    "    \n",
    "`else (optional condition):`\n"
   ]
  },
  {
   "cell_type": "code",
   "execution_count": 45,
   "metadata": {},
   "outputs": [
    {
     "name": "stdout",
     "output_type": "stream",
     "text": [
      "aa is not true\n"
     ]
    }
   ],
   "source": [
    "aa = False\n",
    "\n",
    "if aa:\n",
    "    print('a is true')\n",
    "else:\n",
    "    print ('aa is not true')"
   ]
  },
  {
   "cell_type": "code",
   "execution_count": 48,
   "metadata": {},
   "outputs": [
    {
     "name": "stdout",
     "output_type": "stream",
     "text": [
      "default condition\n"
     ]
    }
   ],
   "source": [
    "aa = 'wasdf'\n",
    "\n",
    "if aa == 'aa':\n",
    "    print('first condition')\n",
    "elif aa == 'bb':\n",
    "    print('second condition')\n",
    "else:\n",
    "    print('default condition')"
   ]
  },
  {
   "cell_type": "markdown",
   "metadata": {},
   "source": [
    "## Data Structures\n",
    "\n",
    "* Lists `[]`\n",
    "\n",
    "Lists are orderings of things where each thing corresponds to an index starting at 0. \n",
    "\n",
    "Example `[1, 2, 3]` where 1 is at index 0, 2 is at index 1 and 3 is at index 2.\n",
    "\n",
    "\n",
    "* Tuples `()`\n",
    "\n",
    "Tuples are like lists, only you can't \n",
    "\n",
    "\n",
    "* Dictionaries `{}`\n",
    "\n",
    "key value pairs\n"
   ]
  },
  {
   "cell_type": "code",
   "execution_count": null,
   "metadata": {},
   "outputs": [],
   "source": []
  },
  {
   "cell_type": "markdown",
   "metadata": {},
   "source": [
    "## Comprehension\n",
    "\n",
    "Lists can be constructed using comprehension logic"
   ]
  },
  {
   "cell_type": "code",
   "execution_count": 52,
   "metadata": {},
   "outputs": [
    {
     "data": {
      "text/plain": [
       "[0, 1, 2, 3, 4, 5, 6, 7, 8, 9]"
      ]
     },
     "execution_count": 52,
     "metadata": {},
     "output_type": "execute_result"
    }
   ],
   "source": [
    "[a for a in range(10)]"
   ]
  }
 ],
 "metadata": {
  "kernelspec": {
   "display_name": "Python 3",
   "language": "python",
   "name": "python3"
  },
  "language_info": {
   "codemirror_mode": {
    "name": "ipython",
    "version": 3
   },
   "file_extension": ".py",
   "mimetype": "text/x-python",
   "name": "python",
   "nbconvert_exporter": "python",
   "pygments_lexer": "ipython3",
   "version": "3.6.0"
  }
 },
 "nbformat": 4,
 "nbformat_minor": 2
}
